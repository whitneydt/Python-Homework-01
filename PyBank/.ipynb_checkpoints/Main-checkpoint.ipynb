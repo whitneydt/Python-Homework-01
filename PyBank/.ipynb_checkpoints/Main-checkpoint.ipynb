{
 "cells": [
  {
   "cell_type": "code",
   "execution_count": 1,
   "metadata": {},
   "outputs": [],
   "source": [
    "import pandas as pd\n",
    "from pathlib import Path"
   ]
  },
  {
   "cell_type": "code",
   "execution_count": 2,
   "metadata": {},
   "outputs": [
    {
     "name": "stdout",
     "output_type": "stream",
     "text": [
      "Financial Analysis\n",
      "------------------\n",
      "Total Number of Months: 86\n",
      "Total Profit and Losses: $38,382,578.00\n",
      "Average Change: $-2,315.12\n",
      "Greatest Increase In Profits:  Feb-2012  1926159.0\n",
      "Greatest Decrease In Profits:  Sep-2013 -2196167.0\n"
     ]
    }
   ],
   "source": [
    "csv_path = Path(\"/Users/whitneyturner/gwu-virt-fin-pt-04-2021-u-c/02-Homework/02-Python/instructions/PyBank/resources/budget_data.csv\")\n",
    "budget_data = pd.read_csv(csv_path)\n",
    "print('Financial Analysis')\n",
    "print('------------------')\n",
    "number_months = len(pd.unique(budget_data['Date']))\n",
    "print(\"Total Number of Months: \" + str(number_months))\n",
    "total_pnl = budget_data['Profit/Losses'].sum()\n",
    "currency = \"${:,.2f}\".format(total_pnl)\n",
    "print(\"Total Profit and Losses: \" + str(currency))\n",
    "budget_data['monthly_change'] = budget_data['Profit/Losses'].shift()\n",
    "budget_data['difference'] = budget_data['Profit/Losses'] - budget_data['monthly_change']\n",
    "average_change = budget_data['difference'].mean()\n",
    "money = \"${:,.2f}\".format(average_change)\n",
    "print('Average Change: ' + str(money))\n",
    "budget_data_1 = budget_data.loc[:,['Date', 'difference']]\n",
    "max_val = budget_data_1[budget_data_1.difference == budget_data_1.difference.max()]\n",
    "min_val = budget_data_1[budget_data_1.difference == budget_data_1.difference.min()]\n",
    "print(\"Greatest Increase In Profits:\", max_val.to_string(header=None,index=False))\n",
    "print(\"Greatest Decrease In Profits:\", min_val.to_string(header=None,index=False))"
   ]
  },
  {
   "cell_type": "code",
   "execution_count": 3,
   "metadata": {},
   "outputs": [],
   "source": [
    "file = open(\"Financial_Analysis.txt\",\"w\")\n",
    "\n",
    "file.write(\"Financial Analysis\" + \"\\n\")\n",
    "\n",
    "file.write(\"....................................................................................\" + \"\\n\")\n",
    "\n",
    "file.write(\"Total Months: \" + str(number_months) + \"\\n\")\n",
    "\n",
    "file.write(\"Total Profit and Losses: \" + str(currency) + \"\\n\")\n",
    "\n",
    "file.write(\"Average Change: \" + str(money) + \"\\n\")\n",
    "\n",
    "file.write(\"Greatest Increase In Profits:\" + max_val.to_string(header=None,index=False) + \"\\n\")\n",
    "\n",
    "file.write(\"Greatest Decrease In Profits:\" + min_val.to_string(header=None,index=False) + \"\\n\")\n",
    "\n",
    "file.close()"
   ]
  },
  {
   "cell_type": "code",
   "execution_count": null,
   "metadata": {},
   "outputs": [],
   "source": []
  }
 ],
 "metadata": {
  "kernelspec": {
   "display_name": "Python 3",
   "language": "python",
   "name": "python3"
  },
  "language_info": {
   "codemirror_mode": {
    "name": "ipython",
    "version": 3
   },
   "file_extension": ".py",
   "mimetype": "text/x-python",
   "name": "python",
   "nbconvert_exporter": "python",
   "pygments_lexer": "ipython3",
   "version": "3.8.5"
  }
 },
 "nbformat": 4,
 "nbformat_minor": 4
}
